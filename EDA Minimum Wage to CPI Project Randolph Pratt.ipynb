{
 "cells": [
  {
   "cell_type": "code",
   "execution_count": 18,
   "metadata": {},
   "outputs": [],
   "source": [
    "import numpy as np\n",
    "import pandas as pd\n",
    "import matplotlib as plt\n",
    "import matplotlib.pyplot as plt\n",
    "import seaborn as sns\n",
    "%matplotlib inline"
   ]
  },
  {
   "cell_type": "code",
   "execution_count": 3,
   "metadata": {},
   "outputs": [
    {
     "data": {
      "text/html": [
       "<div>\n",
       "<style scoped>\n",
       "    .dataframe tbody tr th:only-of-type {\n",
       "        vertical-align: middle;\n",
       "    }\n",
       "\n",
       "    .dataframe tbody tr th {\n",
       "        vertical-align: top;\n",
       "    }\n",
       "\n",
       "    .dataframe thead th {\n",
       "        text-align: right;\n",
       "    }\n",
       "</style>\n",
       "<table border=\"1\" class=\"dataframe\">\n",
       "  <thead>\n",
       "    <tr style=\"text-align: right;\">\n",
       "      <th></th>\n",
       "      <th>Year</th>\n",
       "      <th>State</th>\n",
       "      <th>Table_Data</th>\n",
       "      <th>Footnote</th>\n",
       "      <th>High.Value</th>\n",
       "      <th>Low.Value</th>\n",
       "      <th>CPI.Average</th>\n",
       "      <th>High.2018</th>\n",
       "      <th>Low.2018</th>\n",
       "    </tr>\n",
       "  </thead>\n",
       "  <tbody>\n",
       "    <tr>\n",
       "      <th>0</th>\n",
       "      <td>1968</td>\n",
       "      <td>Alabama</td>\n",
       "      <td>...</td>\n",
       "      <td>NaN</td>\n",
       "      <td>0.00000</td>\n",
       "      <td>0.00000</td>\n",
       "      <td>34.783333</td>\n",
       "      <td>0.00</td>\n",
       "      <td>0.00</td>\n",
       "    </tr>\n",
       "    <tr>\n",
       "      <th>1</th>\n",
       "      <td>1968</td>\n",
       "      <td>Alaska</td>\n",
       "      <td>2.1</td>\n",
       "      <td>NaN</td>\n",
       "      <td>2.10000</td>\n",
       "      <td>2.10000</td>\n",
       "      <td>34.783333</td>\n",
       "      <td>15.12</td>\n",
       "      <td>15.12</td>\n",
       "    </tr>\n",
       "    <tr>\n",
       "      <th>2</th>\n",
       "      <td>1968</td>\n",
       "      <td>Arizona</td>\n",
       "      <td>18.72 - 26.40/wk(b)</td>\n",
       "      <td>(b)</td>\n",
       "      <td>0.66000</td>\n",
       "      <td>0.46800</td>\n",
       "      <td>34.783333</td>\n",
       "      <td>4.75</td>\n",
       "      <td>3.37</td>\n",
       "    </tr>\n",
       "    <tr>\n",
       "      <th>3</th>\n",
       "      <td>1968</td>\n",
       "      <td>Arkansas</td>\n",
       "      <td>1.25/day(b)</td>\n",
       "      <td>(b)</td>\n",
       "      <td>0.15625</td>\n",
       "      <td>0.15625</td>\n",
       "      <td>34.783333</td>\n",
       "      <td>1.12</td>\n",
       "      <td>1.12</td>\n",
       "    </tr>\n",
       "    <tr>\n",
       "      <th>4</th>\n",
       "      <td>1968</td>\n",
       "      <td>California</td>\n",
       "      <td>1.65(b)</td>\n",
       "      <td>(b)</td>\n",
       "      <td>1.65000</td>\n",
       "      <td>1.65000</td>\n",
       "      <td>34.783333</td>\n",
       "      <td>11.88</td>\n",
       "      <td>11.88</td>\n",
       "    </tr>\n",
       "  </tbody>\n",
       "</table>\n",
       "</div>"
      ],
      "text/plain": [
       "   Year       State           Table_Data Footnote  High.Value  Low.Value  \\\n",
       "0  1968     Alabama                  ...      NaN     0.00000    0.00000   \n",
       "1  1968      Alaska                  2.1      NaN     2.10000    2.10000   \n",
       "2  1968     Arizona  18.72 - 26.40/wk(b)      (b)     0.66000    0.46800   \n",
       "3  1968    Arkansas          1.25/day(b)      (b)     0.15625    0.15625   \n",
       "4  1968  California              1.65(b)      (b)     1.65000    1.65000   \n",
       "\n",
       "   CPI.Average  High.2018  Low.2018  \n",
       "0    34.783333       0.00      0.00  \n",
       "1    34.783333      15.12     15.12  \n",
       "2    34.783333       4.75      3.37  \n",
       "3    34.783333       1.12      1.12  \n",
       "4    34.783333      11.88     11.88  "
      ]
     },
     "execution_count": 3,
     "metadata": {},
     "output_type": "execute_result"
    }
   ],
   "source": [
    "df = pd.read_csv('minimum_wage_data3.csv')\n",
    "df.head()"
   ]
  },
  {
   "cell_type": "code",
   "execution_count": 4,
   "metadata": {},
   "outputs": [],
   "source": [
    "ratio = df['ratio_high_to_cpi']= df['High.Value']/df['CPI.Average']"
   ]
  },
  {
   "cell_type": "code",
   "execution_count": 7,
   "metadata": {},
   "outputs": [
    {
     "data": {
      "text/html": [
       "<div>\n",
       "<style scoped>\n",
       "    .dataframe tbody tr th:only-of-type {\n",
       "        vertical-align: middle;\n",
       "    }\n",
       "\n",
       "    .dataframe tbody tr th {\n",
       "        vertical-align: top;\n",
       "    }\n",
       "\n",
       "    .dataframe thead th {\n",
       "        text-align: right;\n",
       "    }\n",
       "</style>\n",
       "<table border=\"1\" class=\"dataframe\">\n",
       "  <thead>\n",
       "    <tr style=\"text-align: right;\">\n",
       "      <th></th>\n",
       "      <th>Year</th>\n",
       "      <th>State</th>\n",
       "      <th>Table_Data</th>\n",
       "      <th>Footnote</th>\n",
       "      <th>High.Value</th>\n",
       "      <th>Low.Value</th>\n",
       "      <th>CPI.Average</th>\n",
       "      <th>High.2018</th>\n",
       "      <th>Low.2018</th>\n",
       "      <th>ratio_high_to_cpi</th>\n",
       "    </tr>\n",
       "  </thead>\n",
       "  <tbody>\n",
       "    <tr>\n",
       "      <th>0</th>\n",
       "      <td>1968</td>\n",
       "      <td>Alabama</td>\n",
       "      <td>...</td>\n",
       "      <td>NaN</td>\n",
       "      <td>0.00000</td>\n",
       "      <td>0.00000</td>\n",
       "      <td>34.783333</td>\n",
       "      <td>0.00</td>\n",
       "      <td>0.00</td>\n",
       "      <td>0.000000</td>\n",
       "    </tr>\n",
       "    <tr>\n",
       "      <th>1</th>\n",
       "      <td>1968</td>\n",
       "      <td>Alaska</td>\n",
       "      <td>2.1</td>\n",
       "      <td>NaN</td>\n",
       "      <td>2.10000</td>\n",
       "      <td>2.10000</td>\n",
       "      <td>34.783333</td>\n",
       "      <td>15.12</td>\n",
       "      <td>15.12</td>\n",
       "      <td>0.060374</td>\n",
       "    </tr>\n",
       "    <tr>\n",
       "      <th>2</th>\n",
       "      <td>1968</td>\n",
       "      <td>Arizona</td>\n",
       "      <td>18.72 - 26.40/wk(b)</td>\n",
       "      <td>(b)</td>\n",
       "      <td>0.66000</td>\n",
       "      <td>0.46800</td>\n",
       "      <td>34.783333</td>\n",
       "      <td>4.75</td>\n",
       "      <td>3.37</td>\n",
       "      <td>0.018975</td>\n",
       "    </tr>\n",
       "    <tr>\n",
       "      <th>3</th>\n",
       "      <td>1968</td>\n",
       "      <td>Arkansas</td>\n",
       "      <td>1.25/day(b)</td>\n",
       "      <td>(b)</td>\n",
       "      <td>0.15625</td>\n",
       "      <td>0.15625</td>\n",
       "      <td>34.783333</td>\n",
       "      <td>1.12</td>\n",
       "      <td>1.12</td>\n",
       "      <td>0.004492</td>\n",
       "    </tr>\n",
       "    <tr>\n",
       "      <th>4</th>\n",
       "      <td>1968</td>\n",
       "      <td>California</td>\n",
       "      <td>1.65(b)</td>\n",
       "      <td>(b)</td>\n",
       "      <td>1.65000</td>\n",
       "      <td>1.65000</td>\n",
       "      <td>34.783333</td>\n",
       "      <td>11.88</td>\n",
       "      <td>11.88</td>\n",
       "      <td>0.047437</td>\n",
       "    </tr>\n",
       "  </tbody>\n",
       "</table>\n",
       "</div>"
      ],
      "text/plain": [
       "   Year       State           Table_Data Footnote  High.Value  Low.Value  \\\n",
       "0  1968     Alabama                  ...      NaN     0.00000    0.00000   \n",
       "1  1968      Alaska                  2.1      NaN     2.10000    2.10000   \n",
       "2  1968     Arizona  18.72 - 26.40/wk(b)      (b)     0.66000    0.46800   \n",
       "3  1968    Arkansas          1.25/day(b)      (b)     0.15625    0.15625   \n",
       "4  1968  California              1.65(b)      (b)     1.65000    1.65000   \n",
       "\n",
       "   CPI.Average  High.2018  Low.2018  ratio_high_to_cpi  \n",
       "0    34.783333       0.00      0.00           0.000000  \n",
       "1    34.783333      15.12     15.12           0.060374  \n",
       "2    34.783333       4.75      3.37           0.018975  \n",
       "3    34.783333       1.12      1.12           0.004492  \n",
       "4    34.783333      11.88     11.88           0.047437  "
      ]
     },
     "execution_count": 7,
     "metadata": {},
     "output_type": "execute_result"
    }
   ],
   "source": [
    "df.head()"
   ]
  },
  {
   "cell_type": "code",
   "execution_count": 8,
   "metadata": {},
   "outputs": [
    {
     "data": {
      "text/plain": [
       "<pandas.core.groupby.generic.DataFrameGroupBy object at 0x000002A7A813FF60>"
      ]
     },
     "execution_count": 8,
     "metadata": {},
     "output_type": "execute_result"
    }
   ],
   "source": [
    "df.groupby('State')"
   ]
  },
  {
   "cell_type": "code",
   "execution_count": 11,
   "metadata": {},
   "outputs": [
    {
     "data": {
      "text/plain": [
       "State\n",
       "Alabama                 0.000000\n",
       "Alaska                  0.038274\n",
       "Arizona                 0.009987\n",
       "Arkansas                0.027083\n",
       "California              0.034477\n",
       "Colorado                0.026725\n",
       "Connecticut             0.035338\n",
       "Delaware                0.029945\n",
       "District of Columbia    0.038850\n",
       "Federal (FLSA)          0.031951\n",
       "Florida                 0.007909\n",
       "Georgia                 0.019607\n",
       "Guam                    0.032254\n",
       "Hawaii                  0.033120\n",
       "Idaho                   0.027698\n",
       "Name: ratio_high_to_cpi, dtype: float64"
      ]
     },
     "execution_count": 11,
     "metadata": {},
     "output_type": "execute_result"
    }
   ],
   "source": [
    "df.groupby('State')['ratio_high_to_cpi'].mean().head(15)"
   ]
  },
  {
   "cell_type": "code",
   "execution_count": 28,
   "metadata": {},
   "outputs": [
    {
     "data": {
      "text/plain": [
       "<matplotlib.axes._subplots.AxesSubplot at 0x2a7bc535c18>"
      ]
     },
     "execution_count": 28,
     "metadata": {},
     "output_type": "execute_result"
    },
    {
     "data": {
      "image/png": "[encoded data removed]",
      "text/plain": [
       "<Figure size 720x936 with 1 Axes>"
      ]
     },
     "metadata": {
      "needs_background": "light"
     },
     "output_type": "display_data"
    }
   ],
   "source": [
    "plt.figure(figsize=(10, 13))\n",
    "sns.barplot(y=df['State'], x=df['ratio_high_to_cpi'])\n"
   ]
  },
  {
   "cell_type": "code",
   "execution_count": null,
   "metadata": {},
   "outputs": [],
   "source": []
  }
 ],
 "metadata": {
  "kernelspec": {
   "display_name": "Python 3",
   "language": "python",
   "name": "python3"
  },
  "language_info": {
   "codemirror_mode": {
    "name": "ipython",
    "version": 3
   },
   "file_extension": ".py",
   "mimetype": "text/x-python",
   "name": "python",
   "nbconvert_exporter": "python",
   "pygments_lexer": "ipython3",
   "version": "3.7.3"
  }
 },
 "nbformat": 4,
 "nbformat_minor": 2
}
